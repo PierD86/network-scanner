{
 "cells": [
  {
   "cell_type": "markdown",
   "id": "c064e534-b426-4636-99b4-49b0d68d9a57",
   "metadata": {},
   "source": [
    "#### Reference Tutorial ####\n",
    "https://www.thepythoncode.com/article/building-network-scanner-using-scapy"
   ]
  },
  {
   "cell_type": "code",
   "execution_count": 1,
   "id": "c5f44ce0-8e3c-4343-8079-bcd020338609",
   "metadata": {
    "tags": []
   },
   "outputs": [],
   "source": [
    "from scapy.all import ARP, Ether, srp\n",
    "import socket"
   ]
  },
  {
   "cell_type": "code",
   "execution_count": 2,
   "id": "e6951144-030b-4222-b492-efd06717cb6f",
   "metadata": {
    "tags": []
   },
   "outputs": [],
   "source": [
    "target_ip = \"192.168.1.1/24\"\n",
    "# IP Address for the destination\n",
    "# create ARP packet\n",
    "arp = ARP(pdst=target_ip)\n",
    "# create the Ether broadcast packet\n",
    "# ff:ff:ff:ff:ff:ff MAC address indicates broadcasting\n",
    "ether = Ether(dst=\"ff:ff:ff:ff:ff:ff\")\n",
    "# stack them\n",
    "packet = ether/arp"
   ]
  },
  {
   "cell_type": "code",
   "execution_count": 3,
   "id": "88142d17-4fdf-4bc3-80aa-16b44bfb77fd",
   "metadata": {
    "tags": []
   },
   "outputs": [
    {
     "name": "stdout",
     "output_type": "stream",
     "text": [
      "Begin emission:\n",
      "Finished sending 256 packets.\n",
      "\n",
      "Received 524 packets, got 5 answers, remaining 251 packets\n"
     ]
    }
   ],
   "source": [
    "result = srp(packet, timeout=3)[0]"
   ]
  },
  {
   "cell_type": "code",
   "execution_count": 22,
   "id": "0edd9a94-b69e-49be-b9b4-9b7bbd3fbc09",
   "metadata": {
    "tags": []
   },
   "outputs": [],
   "source": [
    "# a list of clients, we will fill this in the upcoming loop\n",
    "clients = []\n",
    "\n",
    "for sent, received in result:\n",
    "    # for each response, append ip and mac address to `clients` list\n",
    "    try:\n",
    "        clients.append({'ip': received.psrc,\n",
    "                        'mac': received.hwsrc,\n",
    "                        'hostname': socket.gethostbyaddr(received.psrc)[0]})\n",
    "    except:\n",
    "        clients.append({'ip': received.psrc,\n",
    "                        'mac': received.hwsrc,\n",
    "                        'hostname': ''})"
   ]
  },
  {
   "cell_type": "code",
   "execution_count": 92,
   "id": "0d0351b3-2e44-4f3b-9cca-49e2a36c7aaa",
   "metadata": {
    "tags": []
   },
   "outputs": [
    {
     "name": "stdout",
     "output_type": "stream",
     "text": [
      "Available devices in the network:\n",
      "IP                    MAC                  HOSTNAME\n",
      "192.168.1.1      e0:b9:e5:1d:47:32     modemtim.homenet.telecomitalia.it\n",
      "192.168.1.7      38:87:d5:d0:95:12     host.docker.internal\n",
      "192.168.1.254    e2:b9:e5:1d:47:32     Linux.homenet.telecomitalia.it\n",
      "192.168.1.20     d4:54:8b:a4:32:c9     BCD-005173.homenet.telecomitalia.it\n",
      "192.168.1.18     60:ab:67:e9:9f:da     \n"
     ]
    }
   ],
   "source": [
    "# print clients\n",
    "print(\"Available devices in the network:\")\n",
    "print(\"IP\" + \" \"*20+\"MAC\" + \" \"*18+\"HOSTNAME\")\n",
    "for client in clients:\n",
    "    try:\n",
    "        print(\"{:16} {}     {}\".format(client['ip'], client['mac'], client['hostname']))\n",
    "    except:\n",
    "        print(\"{:16}  {}\".format(client['ip'], client['mac']))"
   ]
  },
  {
   "cell_type": "markdown",
   "id": "56062257-b4b1-4e84-b70f-ad95e8d57baa",
   "metadata": {},
   "source": [
    "#### What is ARP (Address Resolution Protocol)\n",
    "\n",
    "https://www.fortinet.com/resources/cyberglossary/what-is-arp#:~:text=Address%20Resolution%20Protocol%20(ARP)%20is,%2Darea%20network%20(LAN)."
   ]
  },
  {
   "cell_type": "code",
   "execution_count": null,
   "id": "2703611e-19d6-4218-a28e-3a6600ac5cfd",
   "metadata": {},
   "outputs": [],
   "source": []
  }
 ],
 "metadata": {
  "kernelspec": {
   "display_name": "Python 3 (ipykernel)",
   "language": "python",
   "name": "python3"
  },
  "language_info": {
   "codemirror_mode": {
    "name": "ipython",
    "version": 3
   },
   "file_extension": ".py",
   "mimetype": "text/x-python",
   "name": "python",
   "nbconvert_exporter": "python",
   "pygments_lexer": "ipython3",
   "version": "3.10.11"
  }
 },
 "nbformat": 4,
 "nbformat_minor": 5
}
