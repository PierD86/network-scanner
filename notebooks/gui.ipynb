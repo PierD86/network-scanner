{
 "cells": [
  {
   "cell_type": "code",
   "execution_count": 1,
   "id": "11b575bb-f768-4578-9ea3-2724eba310fb",
   "metadata": {
    "tags": []
   },
   "outputs": [],
   "source": [
    "from scapy.all import ARP, Ether, srp\n",
    "import sys\n",
    "import argparse\n",
    "import socket\n",
    "import sys\n",
    "\n",
    "def scan_network(target_ip):\n",
    "\n",
    "    # IP Address for the destination\n",
    "    # create ARP packet\n",
    "    arp = ARP(pdst=target_ip)\n",
    "    # create the Ether broadcast packet\n",
    "    # ff:ff:ff:ff:ff:ff MAC address indicates broadcasting\n",
    "    ether = Ether(dst=\"ff:ff:ff:ff:ff:ff\")\n",
    "    # stack them\n",
    "    packet = ether/arp\n",
    "\n",
    "    result = srp(packet, timeout=3, verbose=0)[0]\n",
    "\n",
    "    # a list of clients, we will fill this in the upcoming loop\n",
    "    clients = []\n",
    "\n",
    "    for sent, received in result:\n",
    "        # for each response, append ip and mac address to `clients` list\n",
    "        try:\n",
    "            clients.append({'ip': received.psrc,\n",
    "                            'mac': received.hwsrc,\n",
    "                            'hostname': socket.gethostbyaddr(received.psrc)[0]})\n",
    "        except:\n",
    "            clients.append({'ip': received.psrc,\n",
    "                            'mac': received.hwsrc,\n",
    "                            'hostname': ''})\n",
    "\n",
    "    ####    \n",
    "    root = tk.Tk()\n",
    "    text_box = tk.Text(root, width=80, height=20)\n",
    "    text_box.pack()\n",
    "    \n",
    "    # Define a function to write to the Text widget\n",
    "    def write_to_textbox(s):\n",
    "        text_box.insert(tk.END, s)\n",
    "        text_box.see(tk.END)\n",
    "\n",
    "    # Redirect the standard output to the Text widget\n",
    "    sys.stdout.write = write_to_textbox\n",
    "    ####\n",
    "    \n",
    "       ## print clients\n",
    "    print(\"Available devices in the network:\")\n",
    "    print(\"IP\" + \" \"*20+\"MAC\" + \" \"*18+\"HOSTNAME\")\n",
    "    for client in clients:\n",
    "        try:\n",
    "            print(\"{:16} {}     {}\".format(client['ip'], client['mac'], client['hostname']))\n",
    "        except:\n",
    "            print(\"{:16}  {}\".format(client['ip'], client['mac']))"
   ]
  },
  {
   "cell_type": "code",
   "execution_count": 2,
   "id": "7a49782b-1fbb-4294-8ce3-a1b5058cd9a3",
   "metadata": {},
   "outputs": [],
   "source": [
    "def submit_ip():\n",
    "    ip_address = ip_entry.get()\n",
    "    # call custom function here, passing in ip_address parameter\n",
    "    scan_network(ip_address)"
   ]
  },
  {
   "cell_type": "code",
   "execution_count": 3,
   "id": "2c1a0332-e169-439f-b7a9-dcbee4f37f33",
   "metadata": {
    "tags": []
   },
   "outputs": [],
   "source": [
    "import tkinter as tk\n",
    "import tkinter.messagebox\n",
    "#create a window object\n",
    "window = tk.Tk()\n",
    "#set the window title and size\n",
    "window.title(\"IP Address Input\")\n",
    "window.geometry(\"400x200\")\n",
    "#create a label for input prompt\n",
    "ip_label = tk.Label(window, text=\"Enter IP address:\")\n",
    "ip_label.pack(pady=10)\n",
    "#create an entry box to receive input\n",
    "ip_entry = tk.Entry(window)\n",
    "ip_entry.pack(pady=5)"
   ]
  },
  {
   "cell_type": "code",
   "execution_count": 4,
   "id": "e0af4170-3559-42af-accc-beeb2cbfcc4f",
   "metadata": {
    "tags": []
   },
   "outputs": [],
   "source": [
    "#Create a button to submit input\n",
    "submit_button = tk.Button(window, text=\"Submit\", command=submit_ip)\n",
    "submit_button.pack(pady=5)"
   ]
  },
  {
   "cell_type": "code",
   "execution_count": 5,
   "id": "be0d8606-4ce2-4843-abf8-ecd94a51cf0f",
   "metadata": {
    "tags": []
   },
   "outputs": [],
   "source": [
    "window.mainloop()"
   ]
  },
  {
   "cell_type": "code",
   "execution_count": null,
   "id": "a50ef492-d1d1-414a-9b12-89b678655f76",
   "metadata": {},
   "outputs": [],
   "source": []
  }
 ],
 "metadata": {
  "kernelspec": {
   "display_name": "Python 3 (ipykernel)",
   "language": "python",
   "name": "python3"
  },
  "language_info": {
   "codemirror_mode": {
    "name": "ipython",
    "version": 3
   },
   "file_extension": ".py",
   "mimetype": "text/x-python",
   "name": "python",
   "nbconvert_exporter": "python",
   "pygments_lexer": "ipython3",
   "version": "3.10.11"
  }
 },
 "nbformat": 4,
 "nbformat_minor": 5
}
